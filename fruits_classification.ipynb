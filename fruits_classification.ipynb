{
  "cells": [
    {
      "cell_type": "markdown",
      "metadata": {
        "id": "view-in-github",
        "colab_type": "text"
      },
      "source": [
        "<a href=\"https://colab.research.google.com/github/bintangazhari/fruitclassification/blob/main/fruits_classification.ipynb\" target=\"_parent\"><img src=\"https://colab.research.google.com/assets/colab-badge.svg\" alt=\"Open In Colab\"/></a>"
      ]
    },
    {
      "cell_type": "markdown",
      "metadata": {
        "id": "SjWxY4fcD2d2"
      },
      "source": [
        "This is a final project of image classification\n",
        "\n",
        "As google drive has quota, i have been using a jupyter notebook in win10\n",
        "\n",
        "so i can make some trial and errors\n",
        "\n",
        "Profile:\n",
        "Bintang Azhari"
      ]
    },
    {
      "cell_type": "markdown",
      "metadata": {
        "id": "q9558ZbLD2d7"
      },
      "source": [
        "-----------------------------------------------------------------------------"
      ]
    },
    {
      "cell_type": "markdown",
      "metadata": {
        "id": "m2H1q2QtD2d8"
      },
      "source": [
        "Install the library and package required"
      ]
    },
    {
      "cell_type": "code",
      "execution_count": null,
      "metadata": {
        "id": "FEjhIfr4D2d8",
        "outputId": "fe5f4ec5-ac63-4e6d-c2b3-c43d6d351731"
      },
      "outputs": [
        {
          "name": "stdout",
          "output_type": "stream",
          "text": [
            "Requirement already satisfied: tensorflow in c:\\users\\admin\\appdata\\local\\packages\\pythonsoftwarefoundation.python.3.11_qbz5n2kfra8p0\\localcache\\local-packages\\python311\\site-packages (2.15.0)\n",
            "Requirement already satisfied: scikit-learn in c:\\users\\admin\\appdata\\local\\packages\\pythonsoftwarefoundation.python.3.11_qbz5n2kfra8p0\\localcache\\local-packages\\python311\\site-packages (1.3.2)\n",
            "Requirement already satisfied: pillow in c:\\users\\admin\\appdata\\local\\packages\\pythonsoftwarefoundation.python.3.11_qbz5n2kfra8p0\\localcache\\local-packages\\python311\\site-packages (10.1.0)\n",
            "Requirement already satisfied: tensorflow-intel==2.15.0 in c:\\users\\admin\\appdata\\local\\packages\\pythonsoftwarefoundation.python.3.11_qbz5n2kfra8p0\\localcache\\local-packages\\python311\\site-packages (from tensorflow) (2.15.0)\n",
            "Requirement already satisfied: absl-py>=1.0.0 in c:\\users\\admin\\appdata\\local\\packages\\pythonsoftwarefoundation.python.3.11_qbz5n2kfra8p0\\localcache\\local-packages\\python311\\site-packages (from tensorflow-intel==2.15.0->tensorflow) (2.0.0)\n",
            "Requirement already satisfied: astunparse>=1.6.0 in c:\\users\\admin\\appdata\\local\\packages\\pythonsoftwarefoundation.python.3.11_qbz5n2kfra8p0\\localcache\\local-packages\\python311\\site-packages (from tensorflow-intel==2.15.0->tensorflow) (1.6.3)\n",
            "Requirement already satisfied: flatbuffers>=23.5.26 in c:\\users\\admin\\appdata\\local\\packages\\pythonsoftwarefoundation.python.3.11_qbz5n2kfra8p0\\localcache\\local-packages\\python311\\site-packages (from tensorflow-intel==2.15.0->tensorflow) (23.5.26)\n",
            "Requirement already satisfied: gast!=0.5.0,!=0.5.1,!=0.5.2,>=0.2.1 in c:\\users\\admin\\appdata\\local\\packages\\pythonsoftwarefoundation.python.3.11_qbz5n2kfra8p0\\localcache\\local-packages\\python311\\site-packages (from tensorflow-intel==2.15.0->tensorflow) (0.5.4)\n",
            "Requirement already satisfied: google-pasta>=0.1.1 in c:\\users\\admin\\appdata\\local\\packages\\pythonsoftwarefoundation.python.3.11_qbz5n2kfra8p0\\localcache\\local-packages\\python311\\site-packages (from tensorflow-intel==2.15.0->tensorflow) (0.2.0)\n",
            "Requirement already satisfied: h5py>=2.9.0 in c:\\users\\admin\\appdata\\local\\packages\\pythonsoftwarefoundation.python.3.11_qbz5n2kfra8p0\\localcache\\local-packages\\python311\\site-packages (from tensorflow-intel==2.15.0->tensorflow) (3.10.0)\n",
            "Requirement already satisfied: libclang>=13.0.0 in c:\\users\\admin\\appdata\\local\\packages\\pythonsoftwarefoundation.python.3.11_qbz5n2kfra8p0\\localcache\\local-packages\\python311\\site-packages (from tensorflow-intel==2.15.0->tensorflow) (16.0.6)\n",
            "Requirement already satisfied: ml-dtypes~=0.2.0 in c:\\users\\admin\\appdata\\local\\packages\\pythonsoftwarefoundation.python.3.11_qbz5n2kfra8p0\\localcache\\local-packages\\python311\\site-packages (from tensorflow-intel==2.15.0->tensorflow) (0.2.0)\n",
            "Requirement already satisfied: numpy<2.0.0,>=1.23.5 in c:\\users\\admin\\appdata\\local\\packages\\pythonsoftwarefoundation.python.3.11_qbz5n2kfra8p0\\localcache\\local-packages\\python311\\site-packages (from tensorflow-intel==2.15.0->tensorflow) (1.24.2)\n",
            "Requirement already satisfied: opt-einsum>=2.3.2 in c:\\users\\admin\\appdata\\local\\packages\\pythonsoftwarefoundation.python.3.11_qbz5n2kfra8p0\\localcache\\local-packages\\python311\\site-packages (from tensorflow-intel==2.15.0->tensorflow) (3.3.0)\n",
            "Requirement already satisfied: packaging in c:\\users\\admin\\appdata\\local\\packages\\pythonsoftwarefoundation.python.3.11_qbz5n2kfra8p0\\localcache\\local-packages\\python311\\site-packages (from tensorflow-intel==2.15.0->tensorflow) (23.2)\n",
            "Requirement already satisfied: protobuf!=4.21.0,!=4.21.1,!=4.21.2,!=4.21.3,!=4.21.4,!=4.21.5,<5.0.0dev,>=3.20.3 in c:\\users\\admin\\appdata\\local\\packages\\pythonsoftwarefoundation.python.3.11_qbz5n2kfra8p0\\localcache\\local-packages\\python311\\site-packages (from tensorflow-intel==2.15.0->tensorflow) (4.22.0)\n",
            "Requirement already satisfied: setuptools in c:\\program files\\windowsapps\\pythonsoftwarefoundation.python.3.11_3.11.2032.0_x64__qbz5n2kfra8p0\\lib\\site-packages (from tensorflow-intel==2.15.0->tensorflow) (65.5.0)\n",
            "Requirement already satisfied: six>=1.12.0 in c:\\users\\admin\\appdata\\local\\packages\\pythonsoftwarefoundation.python.3.11_qbz5n2kfra8p0\\localcache\\local-packages\\python311\\site-packages (from tensorflow-intel==2.15.0->tensorflow) (1.16.0)\n",
            "Requirement already satisfied: termcolor>=1.1.0 in c:\\users\\admin\\appdata\\local\\packages\\pythonsoftwarefoundation.python.3.11_qbz5n2kfra8p0\\localcache\\local-packages\\python311\\site-packages (from tensorflow-intel==2.15.0->tensorflow) (2.3.0)\n",
            "Requirement already satisfied: typing-extensions>=3.6.6 in c:\\users\\admin\\appdata\\local\\packages\\pythonsoftwarefoundation.python.3.11_qbz5n2kfra8p0\\localcache\\local-packages\\python311\\site-packages (from tensorflow-intel==2.15.0->tensorflow) (4.8.0)\n",
            "Requirement already satisfied: wrapt<1.15,>=1.11.0 in c:\\users\\admin\\appdata\\local\\packages\\pythonsoftwarefoundation.python.3.11_qbz5n2kfra8p0\\localcache\\local-packages\\python311\\site-packages (from tensorflow-intel==2.15.0->tensorflow) (1.14.1)\n",
            "Requirement already satisfied: tensorflow-io-gcs-filesystem>=0.23.1 in c:\\users\\admin\\appdata\\local\\packages\\pythonsoftwarefoundation.python.3.11_qbz5n2kfra8p0\\localcache\\local-packages\\python311\\site-packages (from tensorflow-intel==2.15.0->tensorflow) (0.31.0)\n",
            "Requirement already satisfied: grpcio<2.0,>=1.24.3 in c:\\users\\admin\\appdata\\local\\packages\\pythonsoftwarefoundation.python.3.11_qbz5n2kfra8p0\\localcache\\local-packages\\python311\\site-packages (from tensorflow-intel==2.15.0->tensorflow) (1.51.3)\n",
            "Requirement already satisfied: tensorboard<2.16,>=2.15 in c:\\users\\admin\\appdata\\local\\packages\\pythonsoftwarefoundation.python.3.11_qbz5n2kfra8p0\\localcache\\local-packages\\python311\\site-packages (from tensorflow-intel==2.15.0->tensorflow) (2.15.1)\n",
            "Requirement already satisfied: tensorflow-estimator<2.16,>=2.15.0 in c:\\users\\admin\\appdata\\local\\packages\\pythonsoftwarefoundation.python.3.11_qbz5n2kfra8p0\\localcache\\local-packages\\python311\\site-packages (from tensorflow-intel==2.15.0->tensorflow) (2.15.0)\n",
            "Requirement already satisfied: keras<2.16,>=2.15.0 in c:\\users\\admin\\appdata\\local\\packages\\pythonsoftwarefoundation.python.3.11_qbz5n2kfra8p0\\localcache\\local-packages\\python311\\site-packages (from tensorflow-intel==2.15.0->tensorflow) (2.15.0)\n",
            "Requirement already satisfied: scipy>=1.5.0 in c:\\users\\admin\\appdata\\local\\packages\\pythonsoftwarefoundation.python.3.11_qbz5n2kfra8p0\\localcache\\local-packages\\python311\\site-packages (from scikit-learn) (1.11.4)\n",
            "Requirement already satisfied: joblib>=1.1.1 in c:\\users\\admin\\appdata\\local\\packages\\pythonsoftwarefoundation.python.3.11_qbz5n2kfra8p0\\localcache\\local-packages\\python311\\site-packages (from scikit-learn) (1.3.2)\n",
            "Requirement already satisfied: threadpoolctl>=2.0.0 in c:\\users\\admin\\appdata\\local\\packages\\pythonsoftwarefoundation.python.3.11_qbz5n2kfra8p0\\localcache\\local-packages\\python311\\site-packages (from scikit-learn) (3.2.0)\n",
            "Requirement already satisfied: wheel<1.0,>=0.23.0 in c:\\users\\admin\\appdata\\local\\packages\\pythonsoftwarefoundation.python.3.11_qbz5n2kfra8p0\\localcache\\local-packages\\python311\\site-packages (from astunparse>=1.6.0->tensorflow-intel==2.15.0->tensorflow) (0.38.4)\n",
            "Requirement already satisfied: google-auth<3,>=1.6.3 in c:\\users\\admin\\appdata\\local\\packages\\pythonsoftwarefoundation.python.3.11_qbz5n2kfra8p0\\localcache\\local-packages\\python311\\site-packages (from tensorboard<2.16,>=2.15->tensorflow-intel==2.15.0->tensorflow) (2.23.3)\n",
            "Requirement already satisfied: google-auth-oauthlib<2,>=0.5 in c:\\users\\admin\\appdata\\local\\packages\\pythonsoftwarefoundation.python.3.11_qbz5n2kfra8p0\\localcache\\local-packages\\python311\\site-packages (from tensorboard<2.16,>=2.15->tensorflow-intel==2.15.0->tensorflow) (1.1.0)\n",
            "Requirement already satisfied: markdown>=2.6.8 in c:\\users\\admin\\appdata\\local\\packages\\pythonsoftwarefoundation.python.3.11_qbz5n2kfra8p0\\localcache\\local-packages\\python311\\site-packages (from tensorboard<2.16,>=2.15->tensorflow-intel==2.15.0->tensorflow) (3.5.1)\n",
            "Requirement already satisfied: requests<3,>=2.21.0 in c:\\users\\admin\\appdata\\local\\packages\\pythonsoftwarefoundation.python.3.11_qbz5n2kfra8p0\\localcache\\local-packages\\python311\\site-packages (from tensorboard<2.16,>=2.15->tensorflow-intel==2.15.0->tensorflow) (2.31.0)\n",
            "Requirement already satisfied: tensorboard-data-server<0.8.0,>=0.7.0 in c:\\users\\admin\\appdata\\local\\packages\\pythonsoftwarefoundation.python.3.11_qbz5n2kfra8p0\\localcache\\local-packages\\python311\\site-packages (from tensorboard<2.16,>=2.15->tensorflow-intel==2.15.0->tensorflow) (0.7.2)\n",
            "Requirement already satisfied: werkzeug>=1.0.1 in c:\\users\\admin\\appdata\\local\\packages\\pythonsoftwarefoundation.python.3.11_qbz5n2kfra8p0\\localcache\\local-packages\\python311\\site-packages (from tensorboard<2.16,>=2.15->tensorflow-intel==2.15.0->tensorflow) (3.0.1)\n",
            "Requirement already satisfied: cachetools<6.0,>=2.0.0 in c:\\users\\admin\\appdata\\local\\packages\\pythonsoftwarefoundation.python.3.11_qbz5n2kfra8p0\\localcache\\local-packages\\python311\\site-packages (from google-auth<3,>=1.6.3->tensorboard<2.16,>=2.15->tensorflow-intel==2.15.0->tensorflow) (5.3.0)\n",
            "Requirement already satisfied: pyasn1-modules>=0.2.1 in c:\\users\\admin\\appdata\\local\\packages\\pythonsoftwarefoundation.python.3.11_qbz5n2kfra8p0\\localcache\\local-packages\\python311\\site-packages (from google-auth<3,>=1.6.3->tensorboard<2.16,>=2.15->tensorflow-intel==2.15.0->tensorflow) (0.2.8)\n",
            "Requirement already satisfied: rsa<5,>=3.1.4 in c:\\users\\admin\\appdata\\local\\packages\\pythonsoftwarefoundation.python.3.11_qbz5n2kfra8p0\\localcache\\local-packages\\python311\\site-packages (from google-auth<3,>=1.6.3->tensorboard<2.16,>=2.15->tensorflow-intel==2.15.0->tensorflow) (4.9)\n",
            "Requirement already satisfied: requests-oauthlib>=0.7.0 in c:\\users\\admin\\appdata\\local\\packages\\pythonsoftwarefoundation.python.3.11_qbz5n2kfra8p0\\localcache\\local-packages\\python311\\site-packages (from google-auth-oauthlib<2,>=0.5->tensorboard<2.16,>=2.15->tensorflow-intel==2.15.0->tensorflow) (1.3.1)\n",
            "Requirement already satisfied: charset-normalizer<4,>=2 in c:\\users\\admin\\appdata\\local\\packages\\pythonsoftwarefoundation.python.3.11_qbz5n2kfra8p0\\localcache\\local-packages\\python311\\site-packages (from requests<3,>=2.21.0->tensorboard<2.16,>=2.15->tensorflow-intel==2.15.0->tensorflow) (3.0.1)\n",
            "Requirement already satisfied: idna<4,>=2.5 in c:\\users\\admin\\appdata\\local\\packages\\pythonsoftwarefoundation.python.3.11_qbz5n2kfra8p0\\localcache\\local-packages\\python311\\site-packages (from requests<3,>=2.21.0->tensorboard<2.16,>=2.15->tensorflow-intel==2.15.0->tensorflow) (3.4)\n",
            "Requirement already satisfied: urllib3<3,>=1.21.1 in c:\\users\\admin\\appdata\\local\\packages\\pythonsoftwarefoundation.python.3.11_qbz5n2kfra8p0\\localcache\\local-packages\\python311\\site-packages (from requests<3,>=2.21.0->tensorboard<2.16,>=2.15->tensorflow-intel==2.15.0->tensorflow) (1.26.14)\n",
            "Requirement already satisfied: certifi>=2017.4.17 in c:\\users\\admin\\appdata\\local\\packages\\pythonsoftwarefoundation.python.3.11_qbz5n2kfra8p0\\localcache\\local-packages\\python311\\site-packages (from requests<3,>=2.21.0->tensorboard<2.16,>=2.15->tensorflow-intel==2.15.0->tensorflow) (2022.12.7)\n",
            "Requirement already satisfied: MarkupSafe>=2.1.1 in c:\\users\\admin\\appdata\\local\\packages\\pythonsoftwarefoundation.python.3.11_qbz5n2kfra8p0\\localcache\\local-packages\\python311\\site-packages (from werkzeug>=1.0.1->tensorboard<2.16,>=2.15->tensorflow-intel==2.15.0->tensorflow) (2.1.3)\n",
            "Requirement already satisfied: pyasn1<0.5.0,>=0.4.6 in c:\\users\\admin\\appdata\\local\\packages\\pythonsoftwarefoundation.python.3.11_qbz5n2kfra8p0\\localcache\\local-packages\\python311\\site-packages (from pyasn1-modules>=0.2.1->google-auth<3,>=1.6.3->tensorboard<2.16,>=2.15->tensorflow-intel==2.15.0->tensorflow) (0.4.8)\n",
            "Requirement already satisfied: oauthlib>=3.0.0 in c:\\users\\admin\\appdata\\local\\packages\\pythonsoftwarefoundation.python.3.11_qbz5n2kfra8p0\\localcache\\local-packages\\python311\\site-packages (from requests-oauthlib>=0.7.0->google-auth-oauthlib<2,>=0.5->tensorboard<2.16,>=2.15->tensorflow-intel==2.15.0->tensorflow) (3.2.2)\n"
          ]
        },
        {
          "name": "stderr",
          "output_type": "stream",
          "text": [
            "\n",
            "[notice] A new release of pip is available: 23.3.1 -> 23.3.2\n",
            "[notice] To update, run: C:\\Users\\Admin\\AppData\\Local\\Microsoft\\WindowsApps\\PythonSoftwareFoundation.Python.3.11_qbz5n2kfra8p0\\python.exe -m pip install --upgrade pip\n"
          ]
        }
      ],
      "source": [
        "# install library\n",
        "!pip install tensorflow scikit-learn pillow"
      ]
    },
    {
      "cell_type": "code",
      "execution_count": null,
      "metadata": {
        "id": "9ZoC1iq0D2d-"
      },
      "outputs": [],
      "source": [
        "import tensorflow as tf\n",
        "import pandas as pd\n",
        "import numpy as np\n",
        "import os\n",
        "import opendatasets\n",
        "import shutil\n",
        "\n",
        "import random\n",
        "from PIL import Image\n",
        "import pathlib\n",
        "\n",
        "from sklearn.model_selection import train_test_split\n",
        "from tensorflow.keras.preprocessing.image import ImageDataGenerator\n",
        "from tensorflow.keras.optimizers import *\n",
        "from tensorflow.keras.preprocessing import image\n",
        "from keras.models import Sequential\n",
        "from tensorflow.keras.layers import *\n",
        "from tensorflow.keras.applications import MobileNetV2,ResNet152V2, InceptionV3, VGG16\n",
        "from tensorflow.keras.layers import Input\n",
        "\n",
        "\n",
        "import matplotlib.pyplot as plt\n",
        "import matplotlib.image as mpimg\n",
        "%matplotlib inline"
      ]
    },
    {
      "cell_type": "markdown",
      "metadata": {
        "id": "Q_W7sI4JD2eA"
      },
      "source": [
        "Download the dataset\n",
        "In this case, i download the dataset from:\n",
        "https://www.kaggle.com/datasets/utkarshsaxenadn/fruits-classification\n",
        "which consists 10k images of various size, shape, colours and distributed under 5 categories.\n"
      ]
    },
    {
      "cell_type": "code",
      "execution_count": null,
      "metadata": {
        "id": "gi6vAOLyD2eA",
        "outputId": "ffaafa90-23cc-4a43-bb19-4a619d743e98"
      },
      "outputs": [
        {
          "name": "stdout",
          "output_type": "stream",
          "text": [
            "Downloading fruits-classification.zip to .\\fruits-classification\n"
          ]
        },
        {
          "name": "stderr",
          "output_type": "stream",
          "text": [
            "100%|██████████| 84.8M/84.8M [00:15<00:00, 5.71MB/s]\n"
          ]
        },
        {
          "name": "stdout",
          "output_type": "stream",
          "text": [
            "\n"
          ]
        }
      ],
      "source": [
        "\n",
        "# Create parent Folder for the project\n",
        "dir_base = r'C:\\Users\\Admin\\Documents\\IDCamp\\fruit-classification'\n",
        "os.mkdir(dir_base)\n",
        "\n",
        "# Kaggle API token\n",
        "token = r'C:\\Users\\Admin\\Downloads\\kaggle.json'\n",
        "\n",
        "# Copy the token into the parent folder\n",
        "shutil.copy(token, dir_base)\n",
        "\n",
        "# change directory to parent folder\n",
        "os.chdir(dir_base)\n",
        "\n",
        "# download datasets, the output is a folder of dir_base + intel-image-classification\n",
        "dataset_url = 'https://www.kaggle.com/datasets/utkarshsaxenadn/fruits-classification'\n",
        "opendatasets.download(dataset_url)\n"
      ]
    },
    {
      "cell_type": "markdown",
      "metadata": {
        "id": "tV8jLWG4D2eB"
      },
      "source": [
        "Since ratio of train and test doesn't fit with the qualification, we need to resplit the data again.\n",
        "So we'll make folder to handle that"
      ]
    },
    {
      "cell_type": "code",
      "execution_count": null,
      "metadata": {
        "id": "-IHqYy8lD2eB"
      },
      "outputs": [],
      "source": [
        "# create the train folder\n",
        "dir_base_train = os.path.join(dir_base, 'train')\n",
        "dir_base_train_apples = os.path.join(dir_base_train, 'apples')\n",
        "dir_base_train_bananas = os.path.join(dir_base_train, 'bananas')\n",
        "dir_base_train_grapes = os.path.join(dir_base_train, 'grapes')\n",
        "dir_base_train_mangos = os.path.join(dir_base_train, 'mangos')\n",
        "dir_base_train_strawberries = os.path.join(dir_base_train, 'strawberries')\n",
        "\n",
        "\n",
        "list_train_folder = [dir_base_train, dir_base_train_apples, dir_base_train_bananas,\n",
        "                     dir_base_train_grapes, dir_base_train_mangos, dir_base_train_strawberries]\n",
        "\n",
        "for train_folder in list_train_folder:\n",
        "    os.mkdir(train_folder)\n",
        "\n",
        "\n",
        "\n",
        "# create the test folder\n",
        "\n",
        "dir_base_test = os.path.join(dir_base, 'test')\n",
        "dir_base_test_apples = os.path.join(dir_base_test, 'apples')\n",
        "dir_base_test_bananas = os.path.join(dir_base_test, 'bananas')\n",
        "dir_base_test_grapes = os.path.join(dir_base_test, 'grapes')\n",
        "dir_base_test_mangos = os.path.join(dir_base_test, 'mangos')\n",
        "dir_base_test_strawberries = os.path.join(dir_base_test, 'strawberries')\n",
        "\n",
        "list_test_folder = [dir_base_test, dir_base_test_apples, dir_base_test_bananas,\n",
        "                     dir_base_test_grapes, dir_base_test_mangos, dir_base_test_strawberries]\n",
        "\n",
        "for test_folder in list_test_folder:\n",
        "    os.mkdir(test_folder)\n",
        "\n"
      ]
    },
    {
      "cell_type": "code",
      "execution_count": null,
      "metadata": {
        "id": "ayDcKzFGD2eC"
      },
      "outputs": [],
      "source": [
        "# split the train dan validation data as requirement: 0.2\n",
        "# declare the location of old directory train dataset\n",
        "\n",
        "old_dir_train_apples = os.path.join(dir_base, r'fruits-classification\\Fruits Classification\\train\\Apple')\n",
        "old_dir_train_bananas = os.path.join(dir_base, r'fruits-classification\\Fruits Classification\\train\\Banana')\n",
        "old_dir_train_grapes = os.path.join(dir_base, r'fruits-classification\\Fruits Classification\\train\\Grape')\n",
        "old_dir_train_mangos = os.path.join(dir_base, r'fruits-classification\\Fruits Classification\\train\\Mango')\n",
        "old_dir_train_strawberries = os.path.join(dir_base, r'fruits-classification\\Fruits Classification\\train\\Strawberry')\n",
        "\n",
        "# declare the location of old directory test dataset\n",
        "\n",
        "old_dir_test_apples = os.path.join(dir_base, r'fruits-classification\\Fruits Classification\\test\\Apple')\n",
        "old_dir_test_bananas = os.path.join(dir_base, r'fruits-classification\\Fruits Classification\\test\\Banana')\n",
        "old_dir_test_grapes = os.path.join(dir_base, r'fruits-classification\\Fruits Classification\\test\\Grape')\n",
        "old_dir_test_mangos = os.path.join(dir_base, r'fruits-classification\\Fruits Classification\\test\\Mango')\n",
        "old_dir_test_strawberries = os.path.join(dir_base, r'fruits-classification\\Fruits Classification\\test\\Strawberry')\n",
        "\n",
        "# declare the location of old directory valid dataset\n",
        "\n",
        "old_dir_valid_apples = os.path.join(dir_base, r'fruits-classification\\Fruits Classification\\valid\\Apple')\n",
        "old_dir_valid_bananas = os.path.join(dir_base, r'fruits-classification\\Fruits Classification\\valid\\Banana')\n",
        "old_dir_valid_grapes = os.path.join(dir_base, r'fruits-classification\\Fruits Classification\\valid\\Grape')\n",
        "old_dir_valid_mangos = os.path.join(dir_base, r'fruits-classification\\Fruits Classification\\valid\\Mango')\n",
        "old_dir_valid_strawberries = os.path.join(dir_base, r'fruits-classification\\Fruits Classification\\valid\\Strawberry')\n",
        "\n",
        "\n",
        "# split the dataset in the old train folder first\n",
        "train_apples, val_apples = train_test_split(os.listdir(old_dir_train_apples), test_size = 0.20)\n",
        "train_bananas, val_bananas = train_test_split(os.listdir(old_dir_train_bananas), test_size = 0.20)\n",
        "train_grapes, val_grapes = train_test_split(os.listdir(old_dir_train_grapes), test_size = 0.20)\n",
        "train_mangos, val_mangos = train_test_split(os.listdir(old_dir_train_mangos), test_size = 0.20)\n",
        "train_strawberries, val_strawberries = train_test_split(os.listdir(old_dir_train_strawberries), test_size = 0.20)\n",
        "\n",
        "train_dict = {old_dir_train_apples:train_apples,\n",
        "              old_dir_train_bananas:train_bananas,\n",
        "              old_dir_train_grapes:train_grapes,\n",
        "              old_dir_train_mangos: train_mangos,\n",
        "              old_dir_train_strawberries:train_strawberries}\n",
        "\n",
        "for x,y in train_dict.items():\n",
        "    for file in y:\n",
        "        if y == train_apples:\n",
        "            location = dir_base_train_apples\n",
        "        elif y == train_bananas:\n",
        "            location = dir_base_train_bananas\n",
        "        elif y == train_grapes:\n",
        "            location = dir_base_train_grapes\n",
        "        elif y == train_mangos:\n",
        "            location = dir_base_train_mangos\n",
        "        elif y == train_strawberries:\n",
        "            location = dir_base_train_strawberries\n",
        "        shutil.copy(os.path.join(x, file), os.path.join(location, file))\n",
        "\n",
        "val_dict = {old_dir_train_apples:val_apples,\n",
        "              old_dir_train_bananas:val_bananas,\n",
        "              old_dir_train_grapes:val_grapes,\n",
        "              old_dir_train_mangos: val_mangos,\n",
        "              old_dir_train_strawberries:val_strawberries}\n",
        "\n",
        "for x,y in val_dict.items():\n",
        "    for file in y:\n",
        "        if y == val_apples:\n",
        "            location = dir_base_test_apples\n",
        "        elif y == val_bananas:\n",
        "            location = dir_base_test_bananas\n",
        "        elif y == val_grapes:\n",
        "            location = dir_base_test_grapes\n",
        "        elif y == val_mangos:\n",
        "            location = dir_base_test_mangos\n",
        "        elif y == val_strawberries:\n",
        "            location = dir_base_test_strawberries\n",
        "        shutil.copy(os.path.join(x, file), os.path.join(location, file))"
      ]
    },
    {
      "cell_type": "code",
      "execution_count": null,
      "metadata": {
        "id": "DqaIzwTYD2eD"
      },
      "outputs": [],
      "source": [
        "# split the dataset in the old test folder\n",
        "train_apples, val_apples = train_test_split(os.listdir(old_dir_test_apples), test_size = 0.20)\n",
        "train_bananas, val_bananas = train_test_split(os.listdir(old_dir_test_bananas), test_size = 0.20)\n",
        "train_grapes, val_grapes = train_test_split(os.listdir(old_dir_test_grapes), test_size = 0.20)\n",
        "train_mangos, val_mangos = train_test_split(os.listdir(old_dir_test_mangos), test_size = 0.20)\n",
        "train_strawberries, val_strawberries = train_test_split(os.listdir(old_dir_test_strawberries), test_size = 0.20)\n",
        "\n",
        "train_dict = {old_dir_test_apples:train_apples,\n",
        "              old_dir_test_bananas:train_bananas,\n",
        "              old_dir_test_grapes:train_grapes,\n",
        "              old_dir_test_mangos: train_mangos,\n",
        "              old_dir_test_strawberries:train_strawberries}\n",
        "\n",
        "for x,y in train_dict.items():\n",
        "    for file in y:\n",
        "        if y == train_apples:\n",
        "            location = dir_base_train_apples\n",
        "        elif y == train_bananas:\n",
        "            location = dir_base_train_bananas\n",
        "        elif y == train_grapes:\n",
        "            location = dir_base_train_grapes\n",
        "        elif y == train_mangos:\n",
        "            location = dir_base_train_mangos\n",
        "        elif y == train_strawberries:\n",
        "            location = dir_base_train_strawberries\n",
        "        shutil.copy(os.path.join(x, file), os.path.join(location, file))\n",
        "\n",
        "\n",
        "val_dict = {old_dir_test_apples:val_apples,\n",
        "              old_dir_test_bananas:val_bananas,\n",
        "              old_dir_test_grapes:val_grapes,\n",
        "              old_dir_test_mangos: val_mangos,\n",
        "              old_dir_test_strawberries:val_strawberries}\n",
        "\n",
        "for x,y in val_dict.items():\n",
        "    for file in y:\n",
        "        if y == val_apples:\n",
        "            location = dir_base_test_apples\n",
        "        elif y == val_bananas:\n",
        "            location = dir_base_test_bananas\n",
        "        elif y == val_grapes:\n",
        "            location = dir_base_test_grapes\n",
        "        elif y == val_mangos:\n",
        "            location = dir_base_test_mangos\n",
        "        elif y == val_strawberries:\n",
        "            location = dir_base_test_strawberries\n",
        "        shutil.copy(os.path.join(x, file), os.path.join(location, file))"
      ]
    },
    {
      "cell_type": "code",
      "execution_count": null,
      "metadata": {
        "id": "L9cI63G7D2eE"
      },
      "outputs": [],
      "source": [
        "# split the dataset in the old valid folder\n",
        "train_apples, val_apples = train_test_split(os.listdir(old_dir_valid_apples), test_size = 0.20)\n",
        "train_bananas, val_bananas = train_test_split(os.listdir(old_dir_valid_bananas), test_size = 0.20)\n",
        "train_grapes, val_grapes = train_test_split(os.listdir(old_dir_valid_grapes), test_size = 0.20)\n",
        "train_mangos, val_mangos = train_test_split(os.listdir(old_dir_valid_mangos), test_size = 0.20)\n",
        "train_strawberries, val_strawberries = train_test_split(os.listdir(old_dir_valid_strawberries), test_size = 0.20)\n",
        "\n",
        "train_dict = {old_dir_valid_apples:train_apples,\n",
        "              old_dir_valid_bananas:train_bananas,\n",
        "              old_dir_valid_grapes:train_grapes,\n",
        "              old_dir_valid_mangos: train_mangos,\n",
        "              old_dir_valid_strawberries:train_strawberries}\n",
        "\n",
        "for x,y in train_dict.items():\n",
        "    for file in y:\n",
        "        if y == train_apples:\n",
        "            location = dir_base_train_apples\n",
        "        elif y == train_bananas:\n",
        "            location = dir_base_train_bananas\n",
        "        elif y == train_grapes:\n",
        "            location = dir_base_train_grapes\n",
        "        elif y == train_mangos:\n",
        "            location = dir_base_train_mangos\n",
        "        elif y == train_strawberries:\n",
        "            location = dir_base_train_strawberries\n",
        "        shutil.copy(os.path.join(x, file), os.path.join(location, file))\n",
        "\n",
        "\n",
        "val_dict = {old_dir_valid_apples:val_apples,\n",
        "              old_dir_valid_bananas:val_bananas,\n",
        "              old_dir_valid_grapes:val_grapes,\n",
        "              old_dir_valid_mangos: val_mangos,\n",
        "              old_dir_valid_strawberries:val_strawberries}\n",
        "\n",
        "for x,y in val_dict.items():\n",
        "    for file in y:\n",
        "        if y == val_apples:\n",
        "            location = dir_base_test_apples\n",
        "        elif y == val_bananas:\n",
        "            location = dir_base_test_bananas\n",
        "        elif y == val_grapes:\n",
        "            location = dir_base_test_grapes\n",
        "        elif y == val_mangos:\n",
        "            location = dir_base_test_mangos\n",
        "        elif y == val_strawberries:\n",
        "            location = dir_base_test_strawberries\n",
        "        shutil.copy(os.path.join(x, file), os.path.join(location, file))"
      ]
    },
    {
      "cell_type": "markdown",
      "metadata": {
        "id": "1ociX2qsD2eF"
      },
      "source": [
        "Do image augmentation to make the data more variative"
      ]
    },
    {
      "cell_type": "code",
      "execution_count": null,
      "metadata": {
        "id": "PfyPRWMRD2eG"
      },
      "outputs": [],
      "source": [
        "# do augmentation as requirement : rescale, rotation, horizontal flip, shear\n",
        "train_datagen = ImageDataGenerator(\n",
        "                    rescale=1./255,\n",
        "                    rotation_range=20,\n",
        "                    horizontal_flip=True,\n",
        "                    fill_mode = 'nearest')\n",
        "\n",
        "val_datagen = ImageDataGenerator(\n",
        "                    rescale=1./255,\n",
        "                    rotation_range=20,\n",
        "                    horizontal_flip=True,\n",
        "                    fill_mode = 'nearest')"
      ]
    },
    {
      "cell_type": "code",
      "execution_count": null,
      "metadata": {
        "id": "pve4Qh4sD2eG",
        "outputId": "3be831b6-a2a2-45fa-85cc-bcd5038b68a1"
      },
      "outputs": [
        {
          "name": "stdout",
          "output_type": "stream",
          "text": [
            "Found 8000 images belonging to 5 classes.\n",
            "Found 2000 images belonging to 5 classes.\n"
          ]
        }
      ],
      "source": [
        "#  prepare the train & validation data\n",
        "train_generator = train_datagen.flow_from_directory(\n",
        "        dir_base_train,  # train data dir\n",
        "        target_size=(150, 160),\n",
        "        batch_size=64,\n",
        "        class_mode='categorical') #use categorical for 5 classes\n",
        "\n",
        "val_generator = val_datagen.flow_from_directory(\n",
        "        dir_base_test, # validation data dir\n",
        "        target_size=(150, 150),\n",
        "        batch_size=64,\n",
        "        class_mode='categorical') #use categorical for 6 classes"
      ]
    },
    {
      "cell_type": "code",
      "execution_count": null,
      "metadata": {
        "id": "oAwgDdqjD2eH",
        "outputId": "8be43ecb-556a-4803-f052-eb929b6d2ded"
      },
      "outputs": [
        {
          "name": "stdout",
          "output_type": "stream",
          "text": [
            "WARNING:tensorflow:`input_shape` is undefined or non-square, or `rows` is not in [96, 128, 160, 192, 224]. Weights for input shape (224, 224) will be loaded as the default.\n",
            "Model: \"sequential_44\"\n",
            "_________________________________________________________________\n",
            " Layer (type)                Output Shape              Param #   \n",
            "=================================================================\n",
            " mobilenetv2_1.00_224 (Func  (None, 5, 5, 1280)        2257984   \n",
            " tional)                                                         \n",
            "                                                                 \n",
            " max_pooling2d_111 (MaxPool  (None, 2, 2, 1280)        0         \n",
            " ing2D)                                                          \n",
            "                                                                 \n",
            " activation_5 (Activation)   (None, 2, 2, 1280)        0         \n",
            "                                                                 \n",
            " global_average_pooling (Gl  (None, 1280)              0         \n",
            " obalAveragePooling2D)                                           \n",
            "                                                                 \n",
            " flatten_42 (Flatten)        (None, 1280)              0         \n",
            "                                                                 \n",
            " dropout_42 (Dropout)        (None, 1280)              0         \n",
            "                                                                 \n",
            " dense_95 (Dense)            (None, 256)               327936    \n",
            "                                                                 \n",
            " dropout_43 (Dropout)        (None, 256)               0         \n",
            "                                                                 \n",
            " dense_96 (Dense)            (None, 5)                 1285      \n",
            "                                                                 \n",
            "=================================================================\n",
            "Total params: 2587205 (9.87 MB)\n",
            "Trainable params: 1049221 (4.00 MB)\n",
            "Non-trainable params: 1537984 (5.87 MB)\n",
            "_________________________________________________________________\n"
          ]
        }
      ],
      "source": [
        "pre_trained_model = MobileNetV2(weights=\"imagenet\", include_top=False,\n",
        "                                input_tensor=Input(shape=(150, 150, 3)))\n",
        "\n",
        "pre_trained_model.trainable = True\n",
        "for layer in pre_trained_model.layers[:-5]:\n",
        "    layer.trainable = False\n",
        "\n",
        "model = Sequential()\n",
        "model.add(pre_trained_model)\n",
        "model.add(MaxPooling2D(2, 2))\n",
        "model.add(Activation('relu'))\n",
        "model.add(GlobalAveragePooling2D(name=\"global_average_pooling\"))\n",
        "model.add(Flatten())\n",
        "model.add(Dropout(0.5))\n",
        "model.add(Dense(256, activation=\"relu\"))\n",
        "model.add(Dropout(0.5))\n",
        "model.add(Dense(5, activation='softmax'))\n",
        "model.summary()\n",
        "\n",
        ""
      ]
    },
    {
      "cell_type": "code",
      "execution_count": null,
      "metadata": {
        "id": "mdUr7gUiD2eI"
      },
      "outputs": [],
      "source": [
        "model.compile(loss='categorical_crossentropy',\n",
        "              optimizer=tf.optimizers.Adam(learning_rate=0.0001),\n",
        "              metrics=['accuracy'])"
      ]
    },
    {
      "cell_type": "code",
      "execution_count": null,
      "metadata": {
        "id": "8iPb4quhD2eI"
      },
      "outputs": [],
      "source": [
        "# create a callback function from inheritance of keras callback\n",
        "class tf_callback(tf.keras.callbacks.Callback):\n",
        "    def on_epoch_end(self, epoch, logs={}):\n",
        "        if(logs.get('val_accuracy') > 0.86 and logs.get('accuracy') > 0.86):\n",
        "            self.model.stop_training = True\n",
        "\n",
        "callbacks = tf_callback()"
      ]
    },
    {
      "cell_type": "code",
      "execution_count": null,
      "metadata": {
        "id": "aNl7AVMoD2eI",
        "outputId": "f3b0a370-9a73-43f0-d080-c7a816355689"
      },
      "outputs": [
        {
          "name": "stdout",
          "output_type": "stream",
          "text": [
            "Epoch 1/30\n",
            "41/41 - 56s - loss: 0.4588 - accuracy: 0.8308 - val_loss: 0.5325 - val_accuracy: 0.8170 - 56s/epoch - 1s/step\n",
            "Epoch 2/30\n",
            "41/41 - 57s - loss: 0.4429 - accuracy: 0.8460 - val_loss: 0.5303 - val_accuracy: 0.8090 - 57s/epoch - 1s/step\n",
            "Epoch 3/30\n",
            "41/41 - 57s - loss: 0.4332 - accuracy: 0.8407 - val_loss: 0.5152 - val_accuracy: 0.8170 - 57s/epoch - 1s/step\n",
            "Epoch 4/30\n",
            "41/41 - 61s - loss: 0.4455 - accuracy: 0.8449 - val_loss: 0.5106 - val_accuracy: 0.8230 - 61s/epoch - 1s/step\n",
            "Epoch 5/30\n",
            "41/41 - 61s - loss: 0.4494 - accuracy: 0.8312 - val_loss: 0.5076 - val_accuracy: 0.8195 - 61s/epoch - 1s/step\n",
            "Epoch 6/30\n",
            "41/41 - 61s - loss: 0.4449 - accuracy: 0.8350 - val_loss: 0.4859 - val_accuracy: 0.8305 - 61s/epoch - 1s/step\n",
            "Epoch 7/30\n",
            "41/41 - 61s - loss: 0.4367 - accuracy: 0.8460 - val_loss: 0.4631 - val_accuracy: 0.8380 - 61s/epoch - 1s/step\n",
            "Epoch 8/30\n",
            "41/41 - 63s - loss: 0.4080 - accuracy: 0.8540 - val_loss: 0.4629 - val_accuracy: 0.8310 - 63s/epoch - 2s/step\n",
            "Epoch 9/30\n",
            "41/41 - 61s - loss: 0.4313 - accuracy: 0.8422 - val_loss: 0.4535 - val_accuracy: 0.8365 - 61s/epoch - 1s/step\n",
            "Epoch 10/30\n",
            "41/41 - 60s - loss: 0.4189 - accuracy: 0.8453 - val_loss: 0.4609 - val_accuracy: 0.8350 - 60s/epoch - 1s/step\n",
            "Epoch 11/30\n",
            "41/41 - 61s - loss: 0.3918 - accuracy: 0.8636 - val_loss: 0.4639 - val_accuracy: 0.8420 - 61s/epoch - 1s/step\n",
            "Epoch 12/30\n",
            "41/41 - 62s - loss: 0.3944 - accuracy: 0.8571 - val_loss: 0.4532 - val_accuracy: 0.8420 - 62s/epoch - 2s/step\n",
            "Epoch 13/30\n",
            "41/41 - 61s - loss: 0.3985 - accuracy: 0.8563 - val_loss: 0.4334 - val_accuracy: 0.8515 - 61s/epoch - 1s/step\n",
            "Epoch 14/30\n",
            "41/41 - 61s - loss: 0.3818 - accuracy: 0.8620 - val_loss: 0.4560 - val_accuracy: 0.8420 - 61s/epoch - 1s/step\n",
            "Epoch 15/30\n",
            "41/41 - 61s - loss: 0.3610 - accuracy: 0.8674 - val_loss: 0.4303 - val_accuracy: 0.8540 - 61s/epoch - 1s/step\n",
            "Epoch 16/30\n",
            "41/41 - 61s - loss: 0.3714 - accuracy: 0.8636 - val_loss: 0.4393 - val_accuracy: 0.8510 - 61s/epoch - 1s/step\n",
            "Epoch 17/30\n",
            "41/41 - 60s - loss: 0.3681 - accuracy: 0.8670 - val_loss: 0.4654 - val_accuracy: 0.8360 - 60s/epoch - 1s/step\n",
            "Epoch 18/30\n",
            "41/41 - 60s - loss: 0.3697 - accuracy: 0.8720 - val_loss: 0.4628 - val_accuracy: 0.8445 - 60s/epoch - 1s/step\n",
            "Epoch 19/30\n",
            "41/41 - 60s - loss: 0.3967 - accuracy: 0.8655 - val_loss: 0.4253 - val_accuracy: 0.8510 - 60s/epoch - 1s/step\n",
            "Epoch 20/30\n",
            "41/41 - 60s - loss: 0.3761 - accuracy: 0.8613 - val_loss: 0.4393 - val_accuracy: 0.8475 - 60s/epoch - 1s/step\n",
            "Epoch 21/30\n",
            "41/41 - 60s - loss: 0.3538 - accuracy: 0.8735 - val_loss: 0.4247 - val_accuracy: 0.8530 - 60s/epoch - 1s/step\n",
            "Epoch 22/30\n",
            "41/41 - 60s - loss: 0.3548 - accuracy: 0.8685 - val_loss: 0.4353 - val_accuracy: 0.8500 - 60s/epoch - 1s/step\n",
            "Epoch 23/30\n",
            "41/41 - 60s - loss: 0.3781 - accuracy: 0.8613 - val_loss: 0.4373 - val_accuracy: 0.8410 - 60s/epoch - 1s/step\n",
            "Epoch 24/30\n",
            "41/41 - 60s - loss: 0.3564 - accuracy: 0.8788 - val_loss: 0.4138 - val_accuracy: 0.8555 - 60s/epoch - 1s/step\n",
            "Epoch 25/30\n",
            "41/41 - 60s - loss: 0.3710 - accuracy: 0.8704 - val_loss: 0.4086 - val_accuracy: 0.8590 - 60s/epoch - 1s/step\n",
            "Epoch 26/30\n",
            "41/41 - 60s - loss: 0.3477 - accuracy: 0.8758 - val_loss: 0.4128 - val_accuracy: 0.8550 - 60s/epoch - 1s/step\n",
            "Epoch 27/30\n",
            "41/41 - 60s - loss: 0.3352 - accuracy: 0.8792 - val_loss: 0.4320 - val_accuracy: 0.8540 - 60s/epoch - 1s/step\n",
            "Epoch 28/30\n",
            "41/41 - 60s - loss: 0.3168 - accuracy: 0.8872 - val_loss: 0.4229 - val_accuracy: 0.8550 - 60s/epoch - 1s/step\n",
            "Epoch 29/30\n",
            "41/41 - 60s - loss: 0.3023 - accuracy: 0.8910 - val_loss: 0.4073 - val_accuracy: 0.8550 - 60s/epoch - 1s/step\n",
            "Epoch 30/30\n",
            "41/41 - 59s - loss: 0.3395 - accuracy: 0.8773 - val_loss: 0.4128 - val_accuracy: 0.8605 - 59s/epoch - 1s/step\n"
          ]
        }
      ],
      "source": [
        "history = model.fit(\n",
        "train_generator,\n",
        "steps_per_epoch = 41,\n",
        "epochs = 30,\n",
        "validation_data = val_generator,\n",
        "verbose =2,\n",
        "callbacks = [callbacks]\n",
        ")"
      ]
    },
    {
      "cell_type": "code",
      "execution_count": null,
      "metadata": {
        "id": "5ZShmB43D2eJ",
        "outputId": "f3cad08f-3cc9-4ed3-994f-5eedaff4adf7"
      },
      "outputs": [
        {
          "data": {
            "image/png": "[encoded data removed]",
            "text/plain": [
              "<Figure size 640x480 with 1 Axes>"
            ]
          },
          "metadata": {},
          "output_type": "display_data"
        }
      ],
      "source": [
        "# plot the result - plot the model loss\n",
        "plt.plot(history.history['loss'])\n",
        "plt.plot(history.history['val_loss'])\n",
        "plt.title('Model loss')\n",
        "plt.ylabel('Loss')\n",
        "plt.xlabel('Epoch')\n",
        "plt.legend(['Train', 'Validation'], loc='upper right')\n",
        "plt.show()"
      ]
    },
    {
      "cell_type": "code",
      "execution_count": null,
      "metadata": {
        "id": "21mXMBAbD2eJ",
        "outputId": "cd5f830e-65da-43ef-d48e-4149aa83dd32"
      },
      "outputs": [
        {
          "data": {
            "image/png": "[encoded data removed]",
            "text/plain": [
              "<Figure size 640x480 with 1 Axes>"
            ]
          },
          "metadata": {},
          "output_type": "display_data"
        }
      ],
      "source": [
        "# plot the model accuracy\n",
        "plt.plot(history.history['accuracy'])\n",
        "plt.plot(history.history['val_accuracy'])\n",
        "plt.title('Accuracy')\n",
        "plt.ylabel('accuracy')\n",
        "plt.xlabel('Epoch')\n",
        "plt.legend(['Train', 'Validation'], loc='upper right')\n",
        "plt.show()"
      ]
    },
    {
      "cell_type": "code",
      "execution_count": null,
      "metadata": {
        "id": "DjYAJQAJD2eK",
        "outputId": "27364dde-070c-4a56-d0cc-2fa58aba436b"
      },
      "outputs": [
        {
          "name": "stderr",
          "output_type": "stream",
          "text": [
            "WARNING:absl:`mobilenetv2_1.00_224_input` is not a valid tf.function parameter name. Sanitizing to `mobilenetv2_1_00_224_input`.\n",
            "WARNING:absl:`mobilenetv2_1.00_224_input` is not a valid tf.function parameter name. Sanitizing to `mobilenetv2_1_00_224_input`.\n"
          ]
        },
        {
          "name": "stdout",
          "output_type": "stream",
          "text": [
            "INFO:tensorflow:Assets written to: C:\\Users\\Admin\\Documents\\IDCamp\\fruit-classification\\assets\n"
          ]
        },
        {
          "name": "stderr",
          "output_type": "stream",
          "text": [
            "INFO:tensorflow:Assets written to: C:\\Users\\Admin\\Documents\\IDCamp\\fruit-classification\\assets\n"
          ]
        },
        {
          "data": {
            "text/plain": [
              "10185292"
            ]
          },
          "execution_count": 139,
          "metadata": {},
          "output_type": "execute_result"
        }
      ],
      "source": [
        "# Menyimpan model dalam format SavedModel\n",
        "tf.saved_model.save(model, dir_base)\n",
        "\n",
        "# Convert SavedModel menjadi vegs.tflite\n",
        "converter = tf.lite.TFLiteConverter.from_saved_model(dir_base)\n",
        "tflite_model = converter.convert()\n",
        "\n",
        "tflite_model_file = pathlib.Path('vegs.tflite')\n",
        "tflite_model_file.write_bytes(tflite_model)"
      ]
    }
  ],
  "metadata": {
    "kernelspec": {
      "display_name": "Python 3",
      "language": "python",
      "name": "python3"
    },
    "language_info": {
      "codemirror_mode": {
        "name": "ipython",
        "version": 3
      },
      "file_extension": ".py",
      "mimetype": "text/x-python",
      "name": "python",
      "nbconvert_exporter": "python",
      "pygments_lexer": "ipython3",
      "version": "3.11.7"
    },
    "colab": {
      "provenance": [],
      "include_colab_link": true
    }
  },
  "nbformat": 4,
  "nbformat_minor": 0
}